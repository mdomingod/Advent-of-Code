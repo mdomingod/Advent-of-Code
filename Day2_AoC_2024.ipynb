{
 "cells": [
  {
   "cell_type": "markdown",
   "metadata": {},
   "source": [
    "### D2 - Star 3\n",
    "The engineers are trying to figure out which reports are safe. The Red-Nosed reactor safety systems can only tolerate levels that are either gradually increasing or gradually decreasing. So, a report only counts as safe if both of the following are true:      \n",
    "\n",
    "The levels are either all increasing or all decreasing.     \n",
    "Any two adjacent levels differ by at least one and at most three.       \n",
    "In the example above, the reports can be found safe or unsafe by checking those rules:      \n",
    "\n",
    "7 6 4 2 1: Safe because the levels are all decreasing by 1 or 2.        \n",
    "1 2 7 8 9: Unsafe because 2 7 is an increase of 5.      \n",
    "9 7 6 2 1: Unsafe because 6 2 is a decrease of 4.       \n",
    "1 3 2 4 5: Unsafe because 1 3 is increasing but 3 2 is decreasing.      \n",
    "8 6 4 4 1: Unsafe because 4 4 is neither an increase or a decrease.     \n",
    "1 3 6 7 9: Safe because the levels are all increasing by 1, 2, or 3.        \n",
    "So, in this example, 2 reports are safe.        "
   ]
  },
  {
   "cell_type": "markdown",
   "metadata": {},
   "source": [
    "####  7 6 4 2 1: Safe because the levels are all decreasing by 1 or 2."
   ]
  },
  {
   "cell_type": "code",
   "execution_count": 52,
   "metadata": {},
   "outputs": [
    {
     "name": "stdout",
     "output_type": "stream",
     "text": [
      "7 6 safe 1\n",
      "6 4 safe 2\n",
      "4 2 safe 2\n",
      "2 1 safe 1\n",
      "{}\n",
      "4\n",
      "5\n"
     ]
    }
   ],
   "source": [
    "report = [7, 6, 4, 2, 1]\n",
    "dict_3 = {}\n",
    "s = 0\n",
    "for i in range(len(report)-1):\n",
    "    curr = report[i]\n",
    "    next = report[i+1]\n",
    "    diff = curr - next\n",
    "    \n",
    "\n",
    "    #curr > next\n",
    "\n",
    "    if diff > 0 & diff <=3  :\n",
    "        print(curr, next, \"safe\", diff)\n",
    "        s += 1\n",
    "    else:\n",
    "        print(curr, next, \"unsafe\", diff)\n",
    "        dict_3[0] = \"unsafe\"\n",
    "        #print(dict_3)\n",
    "        s = 0\n",
    "    if s == len(report):\n",
    "      dict_3[0] = \"safe\"  \n",
    "    \n",
    "    \n",
    "print(dict_3)\n",
    "print(s)\n",
    "print(len(report))"
   ]
  },
  {
   "cell_type": "markdown",
   "metadata": {},
   "source": [
    "####  1 3 6 7 9: Safe because the levels are all increasing by 1, 2, or 3."
   ]
  },
  {
   "cell_type": "code",
   "execution_count": 15,
   "metadata": {},
   "outputs": [
    {
     "data": {
      "text/plain": [
       "(-2, -3, -1, -2)"
      ]
     },
     "execution_count": 15,
     "metadata": {},
     "output_type": "execute_result"
    }
   ],
   "source": [
    "1-3, 3-6, 6-7, 7-9"
   ]
  },
  {
   "cell_type": "code",
   "execution_count": 25,
   "metadata": {},
   "outputs": [
    {
     "data": {
      "text/plain": [
       "(-1, -1)"
      ]
     },
     "execution_count": 25,
     "metadata": {},
     "output_type": "execute_result"
    }
   ],
   "source": [
    "1-2, 2-3"
   ]
  },
  {
   "cell_type": "code",
   "execution_count": 30,
   "metadata": {},
   "outputs": [
    {
     "name": "stdout",
     "output_type": "stream",
     "text": [
      "1 3 safe -2\n",
      "3 6 safe -3\n",
      "6 7 safe -1\n",
      "7 9 safe -2\n",
      "{}\n",
      "4\n",
      "5\n"
     ]
    }
   ],
   "source": [
    "report = [1, 3, 6, 7, 9]\n",
    "dict_3 = {}\n",
    "s = 0\n",
    "for i in range(len(report)-1):\n",
    "    curr = report[i]\n",
    "    next = report[i+1]\n",
    "    diff = curr - next\n",
    "    \n",
    "\n",
    "    #curr > next\n",
    "\n",
    "    if diff < 0 & diff >=-3  :\n",
    "        print(curr, next, \"safe\", diff)\n",
    "        s += 1\n",
    "    else:\n",
    "        print(curr, next, \"unsafe\", diff)\n",
    "        dict_3[0] = \"unsafe\"\n",
    "        #print(dict_3)\n",
    "        s = 0\n",
    "    if s == len(report):\n",
    "      dict_3[0] = \"safe\"  \n",
    "    \n",
    "    \n",
    "print(dict_3)\n",
    "print(s)\n",
    "print(len(report))"
   ]
  },
  {
   "cell_type": "markdown",
   "metadata": {},
   "source": [
    "#### 1 3 2 4 5: Unsafe because 1 3 is increasing but 3 2 is decreasing."
   ]
  },
  {
   "cell_type": "code",
   "execution_count": 79,
   "metadata": {},
   "outputs": [
    {
     "name": "stdout",
     "output_type": "stream",
     "text": [
      "9 7 safe 2\n",
      "7 6 safe 1\n",
      "6 2 unsafe 4\n",
      "2 1 safe 1\n",
      "{0: 'unsafe'}\n",
      "1\n"
     ]
    }
   ],
   "source": [
    "report = [9, 7, 6, 2, 1]\n",
    "diff = []\n",
    "s = 0\n",
    "\n",
    "for i in range(len(report)-1):\n",
    "    curr = report[i]\n",
    "    next = report[i+1]\n",
    "    diff_int = curr - next\n",
    "    diff.append(diff_int)\n",
    "    \n",
    "\n",
    "    \n",
    "    #print(curr, next, diff)\n",
    "\n",
    "    if diff[0] < 0:\n",
    "\n",
    "        #print(diff[0], \"decre\")\n",
    "\n",
    "        if diff_int < 0 and diff_int >=-3  :\n",
    "            print(curr, next, \"safe\", diff_int)\n",
    "            s += 1\n",
    "        else:\n",
    "             print(curr, next, \"unsafe\", diff_int)\n",
    "             dict_3[0] = \"unsafe\"\n",
    "             #print(dict_3)\n",
    "             s = 0\n",
    "        if s == len(report):\n",
    "            dict_3[0] = \"safe\"\n",
    "    \n",
    "    if diff[0] > 0:\n",
    "\n",
    "        #print(diff[0], \"incre\")\n",
    "        \n",
    "        if diff_int > 0 and diff_int <=3  :\n",
    "            print(curr, next, \"safe\", diff_int)\n",
    "            s += 1\n",
    "        else:\n",
    "            print(curr, next, \"unsafe\", diff_int)\n",
    "            dict_3[0] = \"unsafe\"\n",
    "            #print(dict_3)\n",
    "            s = 0\n",
    "        if s == len(report):\n",
    "            dict_3[0] = \"safe\"\n",
    "        \n",
    "   \n",
    "\n",
    "print(dict_3)\n",
    "print(s)\n",
    "\n"
   ]
  },
  {
   "cell_type": "code",
   "execution_count": null,
   "metadata": {},
   "outputs": [],
   "source": []
  },
  {
   "cell_type": "code",
   "execution_count": null,
   "metadata": {},
   "outputs": [],
   "source": []
  },
  {
   "cell_type": "code",
   "execution_count": null,
   "metadata": {},
   "outputs": [],
   "source": []
  },
  {
   "cell_type": "code",
   "execution_count": 80,
   "metadata": {},
   "outputs": [
    {
     "data": {
      "text/plain": [
       "[['7', '6', '4', '2', '1'],\n",
       " ['1', '2', '7', '8', '9'],\n",
       " ['9', '7', '6', '2', '1'],\n",
       " ['1', '3', '2', '4', '5'],\n",
       " ['8', '6', '4', '4', '1'],\n",
       " ['1', '3', '6', '7', '9']]"
      ]
     },
     "execution_count": 80,
     "metadata": {},
     "output_type": "execute_result"
    }
   ],
   "source": [
    "report_m = []\n",
    "with open (\"exemple_3.txt\", \"r\") as file:\n",
    "    for line in file:\n",
    "        report_m.append(line.split())\n",
    "report_m        "
   ]
  },
  {
   "cell_type": "markdown",
   "metadata": {},
   "source": [
    "#### One"
   ]
  },
  {
   "cell_type": "code",
   "execution_count": 50,
   "metadata": {},
   "outputs": [
    {
     "name": "stdout",
     "output_type": "stream",
     "text": [
      "7 6 safe 1\n",
      "6 4 safe 2\n",
      "4 2 safe 2\n",
      "2 1 safe 1\n",
      " \n",
      "1 2 safe -1\n",
      "2 7 unsafe -5\n",
      "7 8 safe -1\n",
      "8 9 safe -1\n",
      " \n",
      "9 7 safe 2\n",
      "7 6 safe 1\n",
      "6 2 unsafe 4\n",
      "2 1 safe 1\n",
      " \n",
      "1 3 safe -2\n",
      "3 2 safe 1\n",
      "2 4 safe -2\n",
      "4 5 safe -1\n",
      " \n",
      "8 6 safe 2\n",
      "6 4 safe 2\n",
      "4 4 unsafe 0\n",
      "4 1 safe 3\n",
      " \n",
      "1 3 safe -2\n",
      "3 6 safe -3\n",
      "6 7 safe -1\n",
      "7 9 safe -2\n",
      " \n",
      "{0: 'safe', 1: 'unsafe', 2: 'unsafe', 3: 'safe', 4: 'unsafe', 5: 'safe'}\n"
     ]
    }
   ],
   "source": [
    "dict_3 = {}\n",
    "s = 0\n",
    "\n",
    "for j in range(len(report_m)):\n",
    "    report = report_m[j]\n",
    "    for i in range(len(report)-1):\n",
    "        curr = int(report[i])\n",
    "        next = int(report[i+1])\n",
    "        diff = curr - next\n",
    "        \n",
    "\n",
    "        #curr > next\n",
    "\n",
    "        if (diff > 0 and diff <=3) or (diff < 0 and diff >=-3)  :\n",
    "            print(curr, next, \"safe\", diff)\n",
    "            s += 1\n",
    "            #print(dict_3)\n",
    "            \n",
    "        else:\n",
    "            print(curr, next, \"unsafe\", diff)\n",
    "            dict_3[j] = \"unsafe\"\n",
    "            #print(dict_3)\n",
    "            s = 0\n",
    "        \n",
    "        if s == len(report)-1:\n",
    "            dict_3[j] = \"safe\" \n",
    "    print(\" \")\n",
    "    #print(s) \n",
    "\n",
    "print(dict_3)\n"
   ]
  },
  {
   "cell_type": "code",
   "execution_count": 32,
   "metadata": {},
   "outputs": [
    {
     "data": {
      "text/plain": [
       "True"
      ]
     },
     "execution_count": 32,
     "metadata": {},
     "output_type": "execute_result"
    }
   ],
   "source": [
    "False | True\n",
    "    "
   ]
  },
  {
   "cell_type": "markdown",
   "metadata": {},
   "source": [
    "#### Two"
   ]
  },
  {
   "cell_type": "code",
   "execution_count": 84,
   "metadata": {},
   "outputs": [
    {
     "name": "stdout",
     "output_type": "stream",
     "text": [
      "7 6 safe 1\n",
      "6 4 safe 2\n",
      "4 2 safe 2\n",
      "2 1 safe 1\n",
      "1 2 unsafe -1\n",
      "2 7 unsafe -5\n",
      "7 8 unsafe -1\n",
      "8 9 unsafe -1\n",
      "9 7 safe 2\n",
      "7 6 safe 1\n",
      "6 2 unsafe 4\n",
      "2 1 safe 1\n",
      "1 3 unsafe -2\n",
      "3 2 safe 1\n",
      "2 4 unsafe -2\n",
      "4 5 unsafe -1\n",
      "8 6 safe 2\n",
      "6 4 safe 2\n",
      "4 4 unsafe 0\n",
      "4 1 safe 3\n",
      "1 3 unsafe -2\n",
      "3 6 unsafe -3\n",
      "6 7 unsafe -1\n",
      "7 9 unsafe -2\n",
      "{0: 'unsafe'}\n"
     ]
    }
   ],
   "source": [
    "for j in range(len(report_m)):\n",
    "    report = report_m[j]\n",
    "\n",
    "    for i in range(len(report)-1):\n",
    "        curr = int(report[i])\n",
    "        next = int(report[i+1])\n",
    "        diff_int = curr - next\n",
    "        diff.append(diff_int)\n",
    "        \n",
    "        #print(curr, next, diff)\n",
    "\n",
    "        if diff[0] < 0:\n",
    "\n",
    "            #print(diff[0], \"decre\")\n",
    "\n",
    "            if diff_int < 0 and diff_int >=-3  :\n",
    "                print(curr, next, \"safe\", diff_int)\n",
    "                s += 1\n",
    "            else:\n",
    "                print(curr, next, \"unsafe\", diff_int)\n",
    "                dict_3[0] = \"unsafe\"\n",
    "                #print(dict_3)\n",
    "                s = 0\n",
    "        if s == len(report):\n",
    "                dict_3[0] = \"safe\"\n",
    "        \n",
    "        if diff[0] > 0:\n",
    "\n",
    "            #print(diff[0], \"incre\")\n",
    "            \n",
    "            if diff_int > 0 and diff_int <=3  :\n",
    "                print(curr, next, \"safe\", diff_int)\n",
    "                s += 1\n",
    "            else:\n",
    "                print(curr, next, \"unsafe\", diff_int)\n",
    "                dict_3[0] = \"unsafe\"\n",
    "                #print(dict_3)\n",
    "                s = 0\n",
    "        if s == len(report):\n",
    "                dict_3[0] = \"safe\"\n",
    "\n",
    "print(dict_3)"
   ]
  },
  {
   "cell_type": "code",
   "execution_count": null,
   "metadata": {},
   "outputs": [],
   "source": []
  }
 ],
 "metadata": {
  "kernelspec": {
   "display_name": "Python 3",
   "language": "python",
   "name": "python3"
  },
  "language_info": {
   "codemirror_mode": {
    "name": "ipython",
    "version": 3
   },
   "file_extension": ".py",
   "mimetype": "text/x-python",
   "name": "python",
   "nbconvert_exporter": "python",
   "pygments_lexer": "ipython3",
   "version": "3.12.4"
  }
 },
 "nbformat": 4,
 "nbformat_minor": 2
}
