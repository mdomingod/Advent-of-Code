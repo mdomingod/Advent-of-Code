{
 "cells": [
  {
   "cell_type": "code",
   "execution_count": 1,
   "metadata": {},
   "outputs": [],
   "source": [
    "list_1 = [3, 4, 2, 6, 5, 1]\n",
    "list_2 = [6, 5, 3, 1, 2, 4]\n"
   ]
  },
  {
   "cell_type": "code",
   "execution_count": 55,
   "metadata": {},
   "outputs": [
    {
     "name": "stdout",
     "output_type": "stream",
     "text": [
      "[2, 4, 2, 3, 3, 2] [3, 0, '-', 3, 2, '//', 4, 1, '-', 4, 5, '//', 2, 2, '-', 2, 4, '//', 6, 3, '-', 6, 0, '//', 5, 4, '-', 5, 1, '//', 1, 5, '-', 1, 3, '//']\n",
      "{0: 3, 1: 4, 2: 2, 3: 6, 4: 5, 5: 1}\n",
      "{0: 6, 1: 5, 2: 3, 3: 1, 4: 2, 5: 4}\n"
     ]
    }
   ],
   "source": [
    "dict_1 = {}\n",
    "dict_2 = {}\n",
    "rest =[]\n",
    "kvyr = [\n",
    "\n",
    "]\n",
    "for i in range(len(list_1)):\n",
    "    #print(i, list_1[i])\n",
    "    dict_1[i] = list_1[i]\n",
    "    \n",
    "for j in range(len(list_2)):\n",
    "    #print(j, list_2[j])\n",
    "    dict_2[j] = list_2[j]\n",
    "\n",
    "for k, v in dict_1.items():\n",
    "    for y, r in dict_2.items():\n",
    "\n",
    "        if v == r:\n",
    "            rest += [abs(k-y)]\n",
    "            kvyr += [v, k,\"-\", r, y, \"//\"]\n",
    "\n",
    "print(rest, kvyr)\n",
    "\n",
    "print(dict_1)\n",
    "print(dict_2)"
   ]
  },
  {
   "cell_type": "code",
   "execution_count": null,
   "metadata": {},
   "outputs": [],
   "source": []
  },
  {
   "cell_type": "code",
   "execution_count": 63,
   "metadata": {},
   "outputs": [],
   "source": [
    "left = [3, 4, 2, 1, 3, 3]\n",
    "right = [4, 3, 5, 3, 9, 3]\n",
    "\n",
    "left_s = sorted(left)\n",
    "right_s = sorted(right)\n",
    "\n",
    "\n"
   ]
  },
  {
   "cell_type": "code",
   "execution_count": null,
   "metadata": {},
   "outputs": [],
   "source": []
  },
  {
   "cell_type": "code",
   "execution_count": null,
   "metadata": {},
   "outputs": [],
   "source": []
  },
  {
   "cell_type": "code",
   "execution_count": null,
   "metadata": {},
   "outputs": [],
   "source": []
  },
  {
   "cell_type": "code",
   "execution_count": null,
   "metadata": {},
   "outputs": [],
   "source": []
  },
  {
   "cell_type": "code",
   "execution_count": null,
   "metadata": {},
   "outputs": [],
   "source": []
  },
  {
   "cell_type": "code",
   "execution_count": null,
   "metadata": {},
   "outputs": [],
   "source": []
  }
 ],
 "metadata": {
  "kernelspec": {
   "display_name": "Python 3",
   "language": "python",
   "name": "python3"
  },
  "language_info": {
   "codemirror_mode": {
    "name": "ipython",
    "version": 3
   },
   "file_extension": ".py",
   "mimetype": "text/x-python",
   "name": "python",
   "nbconvert_exporter": "python",
   "pygments_lexer": "ipython3",
   "version": "3.12.4"
  }
 },
 "nbformat": 4,
 "nbformat_minor": 2
}
